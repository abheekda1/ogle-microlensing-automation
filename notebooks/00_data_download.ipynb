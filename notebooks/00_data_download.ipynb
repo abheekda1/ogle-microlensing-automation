{
 "cells": [
  {
   "cell_type": "code",
   "execution_count": 1,
   "id": "98fcc12c",
   "metadata": {},
   "outputs": [],
   "source": [
    "import os\n",
    "import requests\n",
    "from tqdm import tqdm\n",
    "import time"
   ]
  },
  {
   "cell_type": "code",
   "execution_count": 2,
   "id": "7db7f511",
   "metadata": {},
   "outputs": [
    {
     "name": "stdout",
     "output_type": "stream",
     "text": [
      "Directories ready: data/raw/ogle4/2025\n"
     ]
    }
   ],
   "source": [
    "BASE_URL = \"https://www.astrouw.edu.pl/ogle/ogle4/ews/2025/\"\n",
    "OUTPUT_DIR = \"data/raw/ogle4/2025\"\n",
    "\n",
    "os.makedirs(f\"{OUTPUT_DIR}/photometry\", exist_ok=True)\n",
    "os.makedirs(f\"{OUTPUT_DIR}/params\", exist_ok=True)\n",
    "\n",
    "print(\"Directories ready:\", OUTPUT_DIR)"
   ]
  },
  {
   "cell_type": "code",
   "execution_count": 3,
   "id": "bb6050cd",
   "metadata": {},
   "outputs": [],
   "source": [
    "def download_event_files(event_id, base_url=BASE_URL, output_dir=OUTPUT_DIR, delay=0.25):\n",
    "    \"\"\"Download phot.dat and params.dat for a given OGLE event (e.g., 'blg-0001').\"\"\"\n",
    "    url_prefix = f\"{base_url}{event_id}/\"\n",
    "    files = [\"phot.dat\", \"params.dat\"]\n",
    "    results = {}\n",
    "\n",
    "    for fname in files:\n",
    "        dest_dir = \"photometry\" if \"phot\" in fname else \"params\"\n",
    "        dest_path = f\"{output_dir}/{dest_dir}/{event_id}_{fname}\"\n",
    "\n",
    "        if os.path.exists(dest_path):\n",
    "            results[fname] = \"exists\"\n",
    "            continue\n",
    "\n",
    "        file_url = url_prefix + fname\n",
    "        try:\n",
    "            r = requests.get(file_url, timeout=10)\n",
    "            if r.status_code == 200 and len(r.content) > 100:\n",
    "                with open(dest_path, \"wb\") as f:\n",
    "                    f.write(r.content)\n",
    "                results[fname] = \"ok\"\n",
    "            else:\n",
    "                results[fname] = f\"missing ({r.status_code})\"\n",
    "        except Exception as e:\n",
    "            results[fname] = f\"error ({e})\"\n",
    "\n",
    "        time.sleep(delay)\n",
    "    return results"
   ]
  },
  {
   "cell_type": "code",
   "execution_count": 4,
   "id": "c61f4030",
   "metadata": {},
   "outputs": [
    {
     "name": "stderr",
     "output_type": "stream",
     "text": [
      "Downloading OGLE 2025 events: 100%|██████████| 1496/1496 [36:46<00:00,  1.48s/it]"
     ]
    },
    {
     "name": "stdout",
     "output_type": "stream",
     "text": [
      "\n",
      "✅ Completed downloads: 1495 successful, 1 failed.\n"
     ]
    },
    {
     "name": "stderr",
     "output_type": "stream",
     "text": [
      "\n"
     ]
    }
   ],
   "source": [
    "success_log, fail_log = [], []\n",
    "\n",
    "for i in tqdm(range(1, 1497), desc=\"Downloading OGLE 2025 events\"):\n",
    "    event_id = f\"blg-{i:04d}\"\n",
    "    res = download_event_files(event_id)\n",
    "    if all(v == \"ok\" or v == \"exists\" for v in res.values()):\n",
    "        success_log.append(event_id)\n",
    "    else:\n",
    "        fail_log.append((event_id, res))\n",
    "\n",
    "print(f\"\\n✅ Completed downloads: {len(success_log)} successful, {len(fail_log)} failed.\")\n"
   ]
  },
  {
   "cell_type": "code",
   "execution_count": 5,
   "id": "879d0632",
   "metadata": {},
   "outputs": [
    {
     "data": {
      "text/html": [
       "<div>\n",
       "<style scoped>\n",
       "    .dataframe tbody tr th:only-of-type {\n",
       "        vertical-align: middle;\n",
       "    }\n",
       "\n",
       "    .dataframe tbody tr th {\n",
       "        vertical-align: top;\n",
       "    }\n",
       "\n",
       "    .dataframe thead th {\n",
       "        text-align: right;\n",
       "    }\n",
       "</style>\n",
       "<table border=\"1\" class=\"dataframe\">\n",
       "  <thead>\n",
       "    <tr style=\"text-align: right;\">\n",
       "      <th></th>\n",
       "      <th>event</th>\n",
       "      <th>file</th>\n",
       "      <th>status</th>\n",
       "    </tr>\n",
       "  </thead>\n",
       "  <tbody>\n",
       "    <tr>\n",
       "      <th>0</th>\n",
       "      <td>blg-1224</td>\n",
       "      <td>params.dat</td>\n",
       "      <td>error (HTTPSConnectionPool(host='www.astrouw.e...</td>\n",
       "    </tr>\n",
       "  </tbody>\n",
       "</table>\n",
       "</div>"
      ],
      "text/plain": [
       "      event        file                                             status\n",
       "0  blg-1224  params.dat  error (HTTPSConnectionPool(host='www.astrouw.e..."
      ]
     },
     "metadata": {},
     "output_type": "display_data"
    },
    {
     "name": "stdout",
     "output_type": "stream",
     "text": [
      "⚠️  1 files missing or errored (see missing_files.csv).\n"
     ]
    }
   ],
   "source": [
    "import pandas as pd\n",
    "\n",
    "missing_records = []\n",
    "for eid, res in fail_log:\n",
    "    for fname, status in res.items():\n",
    "        if status not in (\"ok\", \"exists\"):\n",
    "            missing_records.append({\"event\": eid, \"file\": fname, \"status\": status})\n",
    "\n",
    "if missing_records:\n",
    "    df_missing = pd.DataFrame(missing_records)\n",
    "    df_missing.to_csv(\"data/raw/ogle4/2025/missing_files.csv\", index=False)\n",
    "    display(df_missing.head())\n",
    "    print(f\"⚠️  {len(df_missing)} files missing or errored (see missing_files.csv).\")\n",
    "else:\n",
    "    print(\"🎉 All files downloaded successfully!\")\n"
   ]
  }
 ],
 "metadata": {
  "kernelspec": {
   "display_name": "a356",
   "language": "python",
   "name": "python3"
  },
  "language_info": {
   "codemirror_mode": {
    "name": "ipython",
    "version": 3
   },
   "file_extension": ".py",
   "mimetype": "text/x-python",
   "name": "python",
   "nbconvert_exporter": "python",
   "pygments_lexer": "ipython3",
   "version": "3.13.5"
  }
 },
 "nbformat": 4,
 "nbformat_minor": 5
}
